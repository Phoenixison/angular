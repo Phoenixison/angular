{
  "nbformat": 4,
  "nbformat_minor": 0,
  "metadata": {
    "colab": {
      "name": "E3_ML.ipynb",
      "provenance": [],
      "authorship_tag": "ABX9TyP965XQSR5yOKYad2QYTbMh",
      "include_colab_link": true
    },
    "kernelspec": {
      "name": "python3",
      "display_name": "Python 3"
    },
    "language_info": {
      "name": "python"
    }
  },
  "cells": [
    {
      "cell_type": "markdown",
      "metadata": {
        "id": "view-in-github",
        "colab_type": "text"
      },
      "source": [
        "<a href=\"https://colab.research.google.com/github/Phoenixison/angular/blob/main/E3_ML.ipynb\" target=\"_parent\"><img src=\"https://colab.research.google.com/assets/colab-badge.svg\" alt=\"Open In Colab\"/></a>"
      ]
    },
    {
      "cell_type": "code",
      "execution_count": 1,
      "metadata": {
        "id": "LSTnkNIX781J"
      },
      "outputs": [],
      "source": [
        "import numpy as np\n",
        "from sklearn import linear_model\n",
        "from sklearn.metrics import mean_squared_error"
      ]
    },
    {
      "cell_type": "code",
      "source": [
        "db_x = np.array([[1],[2],[3]])\n",
        "db_x_train = db_x\n",
        "db_x_test = db_x"
      ],
      "metadata": {
        "id": "IaCwKyhc8QAW"
      },
      "execution_count": 2,
      "outputs": []
    },
    {
      "cell_type": "code",
      "source": [
        "db_y_train = np.array([4,3,5])\n",
        "db_y_test = np.array([4,3,5])"
      ],
      "metadata": {
        "id": "tke60MxA8uWf"
      },
      "execution_count": 3,
      "outputs": []
    },
    {
      "cell_type": "code",
      "source": [
        "model=linear_model.LinearRegression()\n",
        "model.fit(db_x_train,db_y_train)\n",
        "db_y_predicted = model.predict(db_x_test)"
      ],
      "metadata": {
        "id": "tV2lL-dI9VcA"
      },
      "execution_count": 4,
      "outputs": []
    },
    {
      "cell_type": "code",
      "source": [
        "print(\"MSEis:\",mean_squared_error(db_y_test,db_y_predicted))\n",
        "print(\"Weight:\",model.coef_)\n",
        "print(\"Intercept:\",model.intercept_)"
      ],
      "metadata": {
        "colab": {
          "base_uri": "https://localhost:8080/"
        },
        "id": "nj6yjB9K9udQ",
        "outputId": "d6b64de9-f01d-45b9-91e2-e71a38c143f2"
      },
      "execution_count": 5,
      "outputs": [
        {
          "output_type": "stream",
          "name": "stdout",
          "text": [
            "MSEis: 0.5\n",
            "Weight: [0.5]\n",
            "Intercept: 3.0\n"
          ]
        }
      ]
    },
    {
      "cell_type": "code",
      "source": [
        ""
      ],
      "metadata": {
        "id": "st3KnIll-Wbv"
      },
      "execution_count": null,
      "outputs": []
    }
  ]
}